{
 "cells": [
  {
   "cell_type": "code",
   "execution_count": 1,
   "id": "a6751ae1",
   "metadata": {},
   "outputs": [],
   "source": [
    "import face_recognition"
   ]
  },
  {
   "cell_type": "code",
   "execution_count": 16,
   "id": "2bac8845",
   "metadata": {},
   "outputs": [
    {
     "ename": "AttributeError",
     "evalue": "'list' object has no attribute 'read'",
     "output_type": "error",
     "traceback": [
      "\u001b[0;31m---------------------------------------------------------------------------\u001b[0m",
      "\u001b[0;31mAttributeError\u001b[0m                            Traceback (most recent call last)",
      "\u001b[0;32m~/anaconda3/envs/myvenv/lib/python3.9/site-packages/PIL/Image.py\u001b[0m in \u001b[0;36mopen\u001b[0;34m(fp, mode)\u001b[0m\n\u001b[1;32m   2881\u001b[0m     \u001b[0;32mtry\u001b[0m\u001b[0;34m:\u001b[0m\u001b[0;34m\u001b[0m\u001b[0;34m\u001b[0m\u001b[0m\n\u001b[0;32m-> 2882\u001b[0;31m         \u001b[0mfp\u001b[0m\u001b[0;34m.\u001b[0m\u001b[0mseek\u001b[0m\u001b[0;34m(\u001b[0m\u001b[0;36m0\u001b[0m\u001b[0;34m)\u001b[0m\u001b[0;34m\u001b[0m\u001b[0;34m\u001b[0m\u001b[0m\n\u001b[0m\u001b[1;32m   2883\u001b[0m     \u001b[0;32mexcept\u001b[0m \u001b[0;34m(\u001b[0m\u001b[0mAttributeError\u001b[0m\u001b[0;34m,\u001b[0m \u001b[0mio\u001b[0m\u001b[0;34m.\u001b[0m\u001b[0mUnsupportedOperation\u001b[0m\u001b[0;34m)\u001b[0m\u001b[0;34m:\u001b[0m\u001b[0;34m\u001b[0m\u001b[0;34m\u001b[0m\u001b[0m\n",
      "\u001b[0;31mAttributeError\u001b[0m: 'list' object has no attribute 'seek'",
      "\nDuring handling of the above exception, another exception occurred:\n",
      "\u001b[0;31mAttributeError\u001b[0m                            Traceback (most recent call last)",
      "\u001b[0;32m/tmp/ipykernel_6320/134513674.py\u001b[0m in \u001b[0;36m<module>\u001b[0;34m\u001b[0m\n\u001b[0;32m----> 1\u001b[0;31m \u001b[0mimage\u001b[0m \u001b[0;34m=\u001b[0m \u001b[0mface_recognition\u001b[0m\u001b[0;34m.\u001b[0m\u001b[0mload_image_file\u001b[0m\u001b[0;34m(\u001b[0m\u001b[0;34m[\u001b[0m\u001b[0;34m'sample1.JPG'\u001b[0m\u001b[0;34m,\u001b[0m \u001b[0;34m'sample2.JPG'\u001b[0m\u001b[0;34m]\u001b[0m\u001b[0;34m)\u001b[0m\u001b[0;34m\u001b[0m\u001b[0;34m\u001b[0m\u001b[0m\n\u001b[0m",
      "\u001b[0;32m~/anaconda3/envs/myvenv/lib/python3.9/site-packages/face_recognition/api.py\u001b[0m in \u001b[0;36mload_image_file\u001b[0;34m(file, mode)\u001b[0m\n\u001b[1;32m     84\u001b[0m     \u001b[0;34m:\u001b[0m\u001b[0;32mreturn\u001b[0m\u001b[0;34m:\u001b[0m \u001b[0mimage\u001b[0m \u001b[0mcontents\u001b[0m \u001b[0;32mas\u001b[0m \u001b[0mnumpy\u001b[0m \u001b[0marray\u001b[0m\u001b[0;34m\u001b[0m\u001b[0;34m\u001b[0m\u001b[0m\n\u001b[1;32m     85\u001b[0m     \"\"\"\n\u001b[0;32m---> 86\u001b[0;31m     \u001b[0mim\u001b[0m \u001b[0;34m=\u001b[0m \u001b[0mPIL\u001b[0m\u001b[0;34m.\u001b[0m\u001b[0mImage\u001b[0m\u001b[0;34m.\u001b[0m\u001b[0mopen\u001b[0m\u001b[0;34m(\u001b[0m\u001b[0mfile\u001b[0m\u001b[0;34m)\u001b[0m\u001b[0;34m\u001b[0m\u001b[0;34m\u001b[0m\u001b[0m\n\u001b[0m\u001b[1;32m     87\u001b[0m     \u001b[0;32mif\u001b[0m \u001b[0mmode\u001b[0m\u001b[0;34m:\u001b[0m\u001b[0;34m\u001b[0m\u001b[0;34m\u001b[0m\u001b[0m\n\u001b[1;32m     88\u001b[0m         \u001b[0mim\u001b[0m \u001b[0;34m=\u001b[0m \u001b[0mim\u001b[0m\u001b[0;34m.\u001b[0m\u001b[0mconvert\u001b[0m\u001b[0;34m(\u001b[0m\u001b[0mmode\u001b[0m\u001b[0;34m)\u001b[0m\u001b[0;34m\u001b[0m\u001b[0;34m\u001b[0m\u001b[0m\n",
      "\u001b[0;32m~/anaconda3/envs/myvenv/lib/python3.9/site-packages/PIL/Image.py\u001b[0m in \u001b[0;36mopen\u001b[0;34m(fp, mode)\u001b[0m\n\u001b[1;32m   2882\u001b[0m         \u001b[0mfp\u001b[0m\u001b[0;34m.\u001b[0m\u001b[0mseek\u001b[0m\u001b[0;34m(\u001b[0m\u001b[0;36m0\u001b[0m\u001b[0;34m)\u001b[0m\u001b[0;34m\u001b[0m\u001b[0;34m\u001b[0m\u001b[0m\n\u001b[1;32m   2883\u001b[0m     \u001b[0;32mexcept\u001b[0m \u001b[0;34m(\u001b[0m\u001b[0mAttributeError\u001b[0m\u001b[0;34m,\u001b[0m \u001b[0mio\u001b[0m\u001b[0;34m.\u001b[0m\u001b[0mUnsupportedOperation\u001b[0m\u001b[0;34m)\u001b[0m\u001b[0;34m:\u001b[0m\u001b[0;34m\u001b[0m\u001b[0;34m\u001b[0m\u001b[0m\n\u001b[0;32m-> 2884\u001b[0;31m         \u001b[0mfp\u001b[0m \u001b[0;34m=\u001b[0m \u001b[0mio\u001b[0m\u001b[0;34m.\u001b[0m\u001b[0mBytesIO\u001b[0m\u001b[0;34m(\u001b[0m\u001b[0mfp\u001b[0m\u001b[0;34m.\u001b[0m\u001b[0mread\u001b[0m\u001b[0;34m(\u001b[0m\u001b[0;34m)\u001b[0m\u001b[0;34m)\u001b[0m\u001b[0;34m\u001b[0m\u001b[0;34m\u001b[0m\u001b[0m\n\u001b[0m\u001b[1;32m   2885\u001b[0m         \u001b[0mexclusive_fp\u001b[0m \u001b[0;34m=\u001b[0m \u001b[0;32mTrue\u001b[0m\u001b[0;34m\u001b[0m\u001b[0;34m\u001b[0m\u001b[0m\n\u001b[1;32m   2886\u001b[0m \u001b[0;34m\u001b[0m\u001b[0m\n",
      "\u001b[0;31mAttributeError\u001b[0m: 'list' object has no attribute 'read'"
     ]
    }
   ],
   "source": [
    "image = face_recognition.load_image_file(['sample1.JPG', 'sample2.JPG'])"
   ]
  },
  {
   "cell_type": "code",
   "execution_count": 14,
   "id": "182e92fd",
   "metadata": {},
   "outputs": [
    {
     "name": "stdout",
     "output_type": "stream",
     "text": [
      "[(206, 562, 527, 241)]\n",
      "face_location len: 1\n"
     ]
    }
   ],
   "source": [
    "face_location = face_recognition.face_locations(image)\n",
    "print(face_location)\n",
    "print('face_location len: {}'.format(len(face_location)))"
   ]
  },
  {
   "cell_type": "code",
   "execution_count": 15,
   "id": "64e424ef",
   "metadata": {},
   "outputs": [
    {
     "name": "stdout",
     "output_type": "stream",
     "text": [
      "[(503, 660, 578, 585), (519, 801, 594, 726), (543, 474, 605, 411), (464, 394, 554, 305)]\n",
      "face_location len: 4\n"
     ]
    }
   ],
   "source": [
    "image = face_recognition.load_image_file('sample2.JPG')\n",
    "face_location = face_recognition.face_locations(image)\n",
    "print(face_location)\n",
    "print('face_location len: {}'.format(len(face_location)))"
   ]
  },
  {
   "cell_type": "code",
   "execution_count": 1,
   "id": "57c0a060",
   "metadata": {},
   "outputs": [
    {
     "name": "stdout",
     "output_type": "stream",
     "text": [
      "/home/yuyainoue/Desktop/DataMaker/datas\n"
     ]
    }
   ],
   "source": [
    "import os\n",
    "print(os.getcwd())"
   ]
  },
  {
   "cell_type": "code",
   "execution_count": 12,
   "id": "4d6dddee",
   "metadata": {},
   "outputs": [
    {
     "name": "stdout",
     "output_type": "stream",
     "text": [
      "['線形代数I_3_0_演習の解説とフィードバック.mp4', '線形代数I_1_1_線形代数の導入.mp4', '微分方程式_12_0_演習の解説,今後の予定.mp4', '微分方程式_10_0_演習の解説.mp4', '線形代数I_5_0_演習の解説.mp4', '線形代数I_12_2_唯一の解をもつための階数の条件.mp4', '微分方程式_6_1_1階線形微分方程式の一般解の証明.mp4', '線形代数I_5_1_行列式の性質.mp4', '微分方程式_2_3_回路への応用例.mp4', '微分方程式_14_2_重ね合わせの原理.mp4', '微分方程式_13_3_非同次項が多項式の場合.mp4', '微分方程式_5_0_演習の解説.mp4', '微分方程式_6_0_演習の解説とフィードバック.mp4', '線形代数I_11_1_簡約な行列.mp4', '微分方程式_3_1_同次形の解き方.mp4', '微分方程式_7_2_ベルヌーイ形の計算例.mp4', '線形代数I_11_0_演習の解説.mp4', '線形代数I_12_0_演習の解説,今後の予定.mp4', '線形代数I_2_0_演習の解説とフィードバック.mp4', '微分方程式_3_0_演習の解説とフィードバック.mp4', '微分方程式_4_2_同次形に帰着される形の例.mp4', '線形代数I_6_2_余因子展開.mp4', '微分方程式_1_1_微分方程式の導入.mp4', '線形代数I_6_1_行列式の分割,行列の積の行列式.mp4', '線形代数I_9_1_行列と連立1次方程式.mp4', '線形代数I_10_3_掃き出し法.mp4', '線形代数I_9_3_クラメルの公式.mp4', '微分方程式_13_2_記号的解法.mp4', '線形代数I_4_2_行列式の定義(一般の場合).mp4', '微分方程式_3_2_同次形の例.mp4', '微分方程式_7_0_演習の解説とフィードバック.mp4', '微分方程式_8_3_完全微分形の計算例.mp4', '線形代数I_10_2_行列の基本変形.mp4', '線形代数I_1_2_いろいろな行列.mp4', '微分方程式_12_3_定数係数2階線形同次微分方程式の初期値問題.mp4', '微分方程式_13_4_非同次項が指数関数(と他の関数の積)の場合.mp4', '微分方程式_6_2_1階線形微分方程式の初期値問題.mp4', '線形代数I_13_0_演習の解説.mp4', '微分方程式_13_1_定数係数2階線形非同次微分方程式の一般解.mp4', '線形代数I_4_1_行列式の定義(2次と3次の場合).mp4', '線形代数I_5_2_転置行列と行列式.mp4', '線形代数I_10_0_演習の解説.mp4', '線形代数I_5_3_一般の行列式の計算.mp4', '微分方程式_11_0_演習の解説.mp4', '微分方程式_10_1_積分因子法.mp4', '微分方程式_4_1_同次形に帰着される形.mp4', '微分方程式_11_1_クレロー型.mp4', '微分方程式_10_2_積分因子法の例.mp4', '微分方程式_8_0_演習の解説.mp4', '微分方程式_8_1_偏微分.mp4', '線形代数I_13_2_同時形連立1次方程式の例.mp4', '微分方程式_2_0_演習の解説とフィードバック.mp4', '微分方程式_4_3_同次形でなく変数分離形に帰着される場合.mp4', '線形代数I_3_2_逆行列,正則行列.mp4', '線形代数I_10_1_拡大係数行列.mp4', '微分方程式_4_0_演習の解説とフィードバック.mp4', '線形代数I_11_3_行列の階数.mp4', '微分方程式_11_2_1階微分方程式の応用.mp4', '線形代数I_12_3_不定解の表示法.mp4', '線形代数I_2_2_行列の積.mp4', '微分方程式_13_0_演習の解説.mp4', '微分方程式_5_3_1階線形微分方程式の一般解.mp4', '線形代数I_2_1_行列の和,差,スカラー倍.mp4', '微分方程式_10_3_積分因子法の証明.mp4', '線形代数I_12_1_連立1次方程式の解と階数の関係.mp4', '微分方程式_7_3_ベルヌーイ形の具体例.mp4', '微分方程式_5_2_1階線形同次微分方程式の解法.mp4', '線形代数I_11_2_行列の簡約化.mp4', '微分方程式_1_3_微分方程式の解の種類.mp4', '線形代数I_14_1_正則行列の性質.mp4', '線形代数I_9_0_演習の解説.mp4', '微分方程式_8_2_完全微分形の一般解.mp4', '微分方程式_2_2_変数分離形の例.mp4', '微分方程式_12_2_定数係数2階線形同次微分方程式の例.mp4', '線形代数I_4_0_演習の解説とフィードバック.mp4', '微分方程式_5_1_線形微分方程式とその性質.mp4', '微分方程式_2_1_変数分離形の解き方.mp4', '線形代数I_6_0_演習の解説.mp4', '微分方程式_14_0_演習の解説.mp4', '微分方程式_14_1_非同次項が三角関数の場合.mp4', '線形代数I_3_1_行列の演算の性質.mp4', '微分方程式_1_2_微分方程式の計算例.mp4', '線形代数I_7_2_余因子行列と逆行列.mp4', '線形代数I_9_2_逆行列による解法.mp4', '線形代数I_7_0_演習の解説.mp4', '線形代数I_14_0_演習の解説.mp4', '線形代数I_14_2_掃き出し法を用いた逆行列の計算.mp4', '線形代数I_7_1_余因子行列とその性質.mp4', '線形代数I_13_1_同次形連立1次方程式.mp4', '微分方程式_12_1_定数係数2階線形同次微分方程式の一般解.mp4', '微分方程式_7_1_ベルヌーイ形の一般解.mp4']\n"
     ]
    }
   ],
   "source": [
    "print(os.listdir('originDatas'))"
   ]
  },
  {
   "cell_type": "code",
   "execution_count": 16,
   "id": "0a500faa",
   "metadata": {},
   "outputs": [
    {
     "name": "stdout",
     "output_type": "stream",
     "text": [
      "['no_0.mp4', 'no_1.mp4', 'no_2.mp4', 'no_3.mp4', 'no_4.mp4', 'no_5.mp4', 'no_6.mp4', 'no_7.mp4', 'no_8.mp4', 'no_9.mp4', 'no_10.mp4', 'no_11.mp4', 'no_12.mp4', 'no_13.mp4', 'no_14.mp4', 'no_15.mp4', 'no_16.mp4', 'no_17.mp4', 'no_18.mp4', 'no_19.mp4', 'no_20.mp4', 'no_21.mp4', 'no_22.mp4', 'no_23.mp4', 'no_24.mp4', 'no_25.mp4', 'no_26.mp4', 'no_27.mp4', 'no_28.mp4', 'no_29.mp4', 'no_30.mp4', 'no_31.mp4', 'no_32.mp4', 'no_33.mp4', 'no_34.mp4', 'no_35.mp4', 'no_36.mp4', 'no_37.mp4', 'no_38.mp4', 'no_39.mp4', 'no_40.mp4', 'no_41.mp4', 'no_42.mp4', 'no_43.mp4', 'no_44.mp4', 'no_45.mp4', 'no_46.mp4', 'no_47.mp4', 'no_48.mp4', 'no_49.mp4', 'no_50.mp4', 'no_51.mp4', 'no_52.mp4', 'no_53.mp4', 'no_54.mp4', 'no_55.mp4', 'no_56.mp4', 'no_57.mp4', 'no_58.mp4', 'no_59.mp4', 'no_60.mp4', 'no_61.mp4', 'no_62.mp4', 'no_63.mp4', 'no_64.mp4', 'no_65.mp4', 'no_66.mp4', 'no_67.mp4', 'no_68.mp4', 'no_69.mp4', 'no_70.mp4', 'no_71.mp4', 'no_72.mp4', 'no_73.mp4', 'no_74.mp4', 'no_75.mp4', 'no_76.mp4', 'no_77.mp4', 'no_78.mp4', 'no_79.mp4', 'no_80.mp4', 'no_81.mp4', 'no_82.mp4', 'no_83.mp4', 'no_84.mp4', 'no_85.mp4', 'no_86.mp4', 'no_87.mp4', 'no_88.mp4', 'no_89.mp4', 'no_90.mp4']\n"
     ]
    }
   ],
   "source": [
    "original = os.listdir('originDatas')\n",
    "rename = []\n",
    "for i in range(len(original)):\n",
    "    rename.append(('no_{}.mp4').format(i))\n",
    "print(rename)"
   ]
  },
  {
   "cell_type": "code",
   "execution_count": 22,
   "id": "f2e36ff2",
   "metadata": {},
   "outputs": [],
   "source": [
    "now_path = os.getcwd()\n",
    "original.sort()\n",
    "for i in range(len(original)):\n",
    "    os.rename(os.path.join(now_path, 'originDatas', original[i]), os.path.join(now_path, 'originDatas', rename[i]))\n",
    "    #print('before: '+os.path.join(now_path, original[i]))\n",
    "    #print('after: '+os.path.join(now_path, 'originDatas', rename[i]))"
   ]
  },
  {
   "cell_type": "code",
   "execution_count": 28,
   "id": "f8f146cd",
   "metadata": {},
   "outputs": [
    {
     "name": "stdout",
     "output_type": "stream",
     "text": [
      "258\n"
     ]
    }
   ],
   "source": [
    "import shutil\n",
    "total, used, free = shutil.disk_usage('/')\n",
    "print(int(used/(10**9)))"
   ]
  },
  {
   "cell_type": "code",
   "execution_count": null,
   "id": "c8b0f0f5",
   "metadata": {},
   "outputs": [],
   "source": []
  }
 ],
 "metadata": {
  "kernelspec": {
   "display_name": "Python 3 (ipykernel)",
   "language": "python",
   "name": "python3"
  },
  "language_info": {
   "codemirror_mode": {
    "name": "ipython",
    "version": 3
   },
   "file_extension": ".py",
   "mimetype": "text/x-python",
   "name": "python",
   "nbconvert_exporter": "python",
   "pygments_lexer": "ipython3",
   "version": "3.9.7"
  }
 },
 "nbformat": 4,
 "nbformat_minor": 5
}
